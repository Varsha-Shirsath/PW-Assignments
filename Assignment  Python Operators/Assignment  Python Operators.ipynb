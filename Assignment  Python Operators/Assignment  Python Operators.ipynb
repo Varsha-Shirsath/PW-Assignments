{
 "cells": [
  {
   "cell_type": "markdown",
   "id": "a774ff70",
   "metadata": {},
   "source": [
    "### 1. Calculate the sum, difference, product, and quotient of two numbers."
   ]
  },
  {
   "cell_type": "code",
   "execution_count": 4,
   "id": "ed60c3bc",
   "metadata": {},
   "outputs": [
    {
     "name": "stdout",
     "output_type": "stream",
     "text": [
      "a= 12\n",
      "b= 72\n",
      "Sum of two numbers= 84\n",
      "Difference between two numbers= 60\n",
      "Product of two numbers= 864\n",
      "Quotient of two numbers= 6.0\n"
     ]
    }
   ],
   "source": [
    "a=12\n",
    "b=72\n",
    "print(\"a=\",a)\n",
    "print(\"b=\",b)\n",
    "print(\"Sum of two numbers=\",a+b)\n",
    "print(\"Difference between two numbers=\",b-a)\n",
    "print(\"Product of two numbers=\",a*b)\n",
    "print(\"Quotient of two numbers=\", b/a)"
   ]
  },
  {
   "cell_type": "markdown",
   "id": "55f7c5c9",
   "metadata": {},
   "source": [
    "### 2. Perform various assignment operations on a variable."
   ]
  },
  {
   "cell_type": "code",
   "execution_count": 44,
   "id": "bceb334f",
   "metadata": {},
   "outputs": [
    {
     "name": "stdout",
     "output_type": "stream",
     "text": [
      "x= 4\n"
     ]
    }
   ],
   "source": [
    "x=4\n",
    "print(\"x=\",x)"
   ]
  },
  {
   "cell_type": "code",
   "execution_count": 45,
   "id": "1f274e8b",
   "metadata": {},
   "outputs": [
    {
     "name": "stdout",
     "output_type": "stream",
     "text": [
      "x+=3 returns: 7\n"
     ]
    }
   ],
   "source": [
    "x+=3\n",
    "print(\"x+=3 returns:\",x)"
   ]
  },
  {
   "cell_type": "code",
   "execution_count": 46,
   "id": "09f37108",
   "metadata": {},
   "outputs": [
    {
     "name": "stdout",
     "output_type": "stream",
     "text": [
      "x-=4 returns: 3\n"
     ]
    }
   ],
   "source": [
    "x-=4\n",
    "print(\"x-=4 returns:\",x)"
   ]
  },
  {
   "cell_type": "code",
   "execution_count": 47,
   "id": "4c67ba28",
   "metadata": {},
   "outputs": [
    {
     "name": "stdout",
     "output_type": "stream",
     "text": [
      "x*=4 returns: 9\n"
     ]
    }
   ],
   "source": [
    "x*=3\n",
    "print(\"x*=4 returns:\",x)"
   ]
  },
  {
   "cell_type": "code",
   "execution_count": 48,
   "id": "3e6c161f",
   "metadata": {},
   "outputs": [
    {
     "name": "stdout",
     "output_type": "stream",
     "text": [
      "x*=4 returns: 3.0\n"
     ]
    }
   ],
   "source": [
    "x/=3\n",
    "print(\"x*=4 returns:\",x)"
   ]
  },
  {
   "cell_type": "code",
   "execution_count": 49,
   "id": "8aed9c96",
   "metadata": {},
   "outputs": [
    {
     "name": "stdout",
     "output_type": "stream",
     "text": [
      "x**=4 returns: 9.0\n"
     ]
    }
   ],
   "source": [
    "x**=2\n",
    "print(\"x**=4 returns:\",x)"
   ]
  },
  {
   "cell_type": "code",
   "execution_count": 50,
   "id": "1e64435e",
   "metadata": {},
   "outputs": [
    {
     "name": "stdout",
     "output_type": "stream",
     "text": [
      "x%=4 returns: 0.0\n"
     ]
    }
   ],
   "source": [
    "x%=3\n",
    "print(\"x%=4 returns:\",x)"
   ]
  },
  {
   "cell_type": "markdown",
   "id": "82e31e86",
   "metadata": {},
   "source": [
    "### 3. Compare two numbers and print the results."
   ]
  },
  {
   "cell_type": "code",
   "execution_count": 67,
   "id": "5109c59a",
   "metadata": {},
   "outputs": [
    {
     "name": "stdout",
     "output_type": "stream",
     "text": [
      "p= 46\n",
      "q= 77\n",
      "p is greater than q: False\n",
      "p is greater than or equal to q: False\n",
      "p is less than q: True\n",
      "p is less than or equal to q: True\n",
      "p is same as q: False\n",
      "p is not same as q: True\n"
     ]
    }
   ],
   "source": [
    "p= 46\n",
    "q=77\n",
    "print(\"p=\",p)\n",
    "print(\"q=\",q)\n",
    "print(\"p is greater than q:\", p>q)\n",
    "print(\"p is greater than or equal to q:\", p>=q)\n",
    "print(\"p is less than q:\", p<q)\n",
    "print(\"p is less than or equal to q:\", p<=q)\n",
    "print(\"p is same as q:\", p==q)\n",
    "print(\"p is not same as q:\", p!=q)"
   ]
  },
  {
   "cell_type": "markdown",
   "id": "0ea86404",
   "metadata": {},
   "source": [
    "### 4. Check conditions using logical operators."
   ]
  },
  {
   "cell_type": "code",
   "execution_count": 77,
   "id": "f1be1dc8",
   "metadata": {},
   "outputs": [
    {
     "name": "stdout",
     "output_type": "stream",
     "text": [
      "m: 70\n",
      "n: 234\n"
     ]
    }
   ],
   "source": [
    "m=70\n",
    "n=234\n",
    "print(\"m:\", m)\n",
    "print(\"n:\", n)"
   ]
  },
  {
   "cell_type": "code",
   "execution_count": 79,
   "id": "64786009",
   "metadata": {},
   "outputs": [
    {
     "name": "stdout",
     "output_type": "stream",
     "text": [
      "m>30 and n<20 : False\n",
      "m>=30 and n<235 : True\n"
     ]
    }
   ],
   "source": [
    "# and operator\n",
    "print(\"m>30 and n<20 :\", m>30 and n<20 )\n",
    "print(\"m>=30 and n<235 :\", m>=30 and n<235 )"
   ]
  },
  {
   "cell_type": "code",
   "execution_count": 83,
   "id": "ac0799ab",
   "metadata": {},
   "outputs": [
    {
     "name": "stdout",
     "output_type": "stream",
     "text": [
      "m>30 or n<20 : True\n",
      "m>80 or n<25 : False\n"
     ]
    }
   ],
   "source": [
    "# or operator\n",
    "print(\"m>30 or n<20 :\", m>30 or n<20 )\n",
    "print(\"m>80 or n<25 :\", m>80 or n<25 )"
   ]
  },
  {
   "cell_type": "code",
   "execution_count": 84,
   "id": "f8c86821",
   "metadata": {},
   "outputs": [
    {
     "name": "stdout",
     "output_type": "stream",
     "text": [
      "not m>30 : False\n"
     ]
    }
   ],
   "source": [
    "# not operator\n",
    "print(\"not m>30 :\", not m>30 )"
   ]
  },
  {
   "cell_type": "markdown",
   "id": "550a3468",
   "metadata": {},
   "source": [
    "### 5.Check the identity of variables."
   ]
  },
  {
   "cell_type": "code",
   "execution_count": 85,
   "id": "15c2846a",
   "metadata": {},
   "outputs": [
    {
     "name": "stdout",
     "output_type": "stream",
     "text": [
      "g= 45\n",
      "h= 30\n"
     ]
    }
   ],
   "source": [
    "g = 45\n",
    "h= 30\n",
    "print('g=',g)\n",
    "print('h=',h)"
   ]
  },
  {
   "cell_type": "code",
   "execution_count": 87,
   "id": "994b9511",
   "metadata": {},
   "outputs": [
    {
     "name": "stdout",
     "output_type": "stream",
     "text": [
      "g is h: False\n"
     ]
    }
   ],
   "source": [
    "# is operator\n",
    "print(\"g is h:\", g is h)"
   ]
  },
  {
   "cell_type": "code",
   "execution_count": 88,
   "id": "5885f6b9",
   "metadata": {},
   "outputs": [
    {
     "name": "stdout",
     "output_type": "stream",
     "text": [
      "g is not h: True\n"
     ]
    }
   ],
   "source": [
    "# is not operator\n",
    "print(\"g is not h:\", g is not h)"
   ]
  },
  {
   "cell_type": "markdown",
   "id": "1c7cf7a1",
   "metadata": {},
   "source": [
    "### 6. Perform bitwise operations on any two integers."
   ]
  },
  {
   "cell_type": "code",
   "execution_count": 100,
   "id": "908358d1",
   "metadata": {},
   "outputs": [
    {
     "name": "stdout",
     "output_type": "stream",
     "text": [
      "y= 10\n",
      "z= 6\n"
     ]
    }
   ],
   "source": [
    "y=10\n",
    "z=6\n",
    "print(\"y=\",y)\n",
    "print(\"z=\",z)"
   ]
  },
  {
   "cell_type": "code",
   "execution_count": 102,
   "id": "2775a663",
   "metadata": {},
   "outputs": [
    {
     "name": "stdout",
     "output_type": "stream",
     "text": [
      "y_and_z: 2\n"
     ]
    }
   ],
   "source": [
    "#Bitwise and\n",
    "y_and_z = y & z\n",
    "print(\"y_and_z:\", y_and_z)"
   ]
  },
  {
   "cell_type": "code",
   "execution_count": 103,
   "id": "1061e1d4",
   "metadata": {},
   "outputs": [
    {
     "name": "stdout",
     "output_type": "stream",
     "text": [
      "y_or_z: 14\n"
     ]
    }
   ],
   "source": [
    "#Bitwise or\n",
    "y_or_z = y | z\n",
    "print(\"y_or_z:\", y_or_z)"
   ]
  },
  {
   "cell_type": "code",
   "execution_count": 104,
   "id": "d5987935",
   "metadata": {},
   "outputs": [
    {
     "name": "stdout",
     "output_type": "stream",
     "text": [
      "y_xor_z: 12\n"
     ]
    }
   ],
   "source": [
    "#Bitwise xor\n",
    "y_xor_z = y ^ z\n",
    "print(\"y_xor_z:\", y_xor_z)"
   ]
  },
  {
   "cell_type": "code",
   "execution_count": 105,
   "id": "0f60b5ff",
   "metadata": {},
   "outputs": [
    {
     "name": "stdout",
     "output_type": "stream",
     "text": [
      " left shift: 40\n"
     ]
    }
   ],
   "source": [
    "#Bitwise left shift\n",
    "l_shift=y<<2\n",
    "print(\" left shift:\",l_shift)"
   ]
  },
  {
   "cell_type": "code",
   "execution_count": 106,
   "id": "9f8f93cd",
   "metadata": {},
   "outputs": [
    {
     "name": "stdout",
     "output_type": "stream",
     "text": [
      " right shift: 2\n"
     ]
    }
   ],
   "source": [
    "#Bitwise right shift\n",
    "r_shift=y>>2\n",
    "print(\" right shift:\",r_shift)"
   ]
  },
  {
   "cell_type": "markdown",
   "id": "227f71b5",
   "metadata": {},
   "source": [
    "### 7. Use unary operators to change the sign of a number."
   ]
  },
  {
   "cell_type": "code",
   "execution_count": 113,
   "id": "83086594",
   "metadata": {},
   "outputs": [
    {
     "name": "stdout",
     "output_type": "stream",
     "text": [
      "negative number of the given number is:  -12\n",
      "negation of given number is : -13\n"
     ]
    }
   ],
   "source": [
    "num = 12\n",
    "print(\"negative number of the given number is: \", -num )\n",
    "print(\"negation of given number is :\", ~num)"
   ]
  },
  {
   "cell_type": "markdown",
   "id": "4bb3ff49",
   "metadata": {},
   "source": [
    "### 8. Use the ternary operator to assign values based on conditions."
   ]
  },
  {
   "cell_type": "code",
   "execution_count": 115,
   "id": "5994c65a",
   "metadata": {},
   "outputs": [
    {
     "name": "stdout",
     "output_type": "stream",
     "text": [
      "e= 28 f= 34\n",
      "e is less than f\n"
     ]
    }
   ],
   "source": [
    "e = 28\n",
    "f=34\n",
    "print(\"e= {} f= {}\".format(e,f))\n",
    "print(\"e is less than f\" if e<f else \"e is greater than f\")"
   ]
  },
  {
   "cell_type": "code",
   "execution_count": null,
   "id": "b7d56072",
   "metadata": {},
   "outputs": [],
   "source": []
  }
 ],
 "metadata": {
  "kernelspec": {
   "display_name": "Python 3 (ipykernel)",
   "language": "python",
   "name": "python3"
  },
  "language_info": {
   "codemirror_mode": {
    "name": "ipython",
    "version": 3
   },
   "file_extension": ".py",
   "mimetype": "text/x-python",
   "name": "python",
   "nbconvert_exporter": "python",
   "pygments_lexer": "ipython3",
   "version": "3.9.7"
  }
 },
 "nbformat": 4,
 "nbformat_minor": 5
}
