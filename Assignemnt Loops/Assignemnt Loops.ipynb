{
 "cells": [
  {
   "cell_type": "markdown",
   "id": "c8da5a3b",
   "metadata": {},
   "source": [
    "### 1. Print number from 1 to 5 using a while loop."
   ]
  },
  {
   "cell_type": "code",
   "execution_count": 3,
   "id": "869890df",
   "metadata": {},
   "outputs": [
    {
     "name": "stdout",
     "output_type": "stream",
     "text": [
      "1\n",
      "2\n",
      "3\n",
      "4\n",
      "5\n"
     ]
    }
   ],
   "source": [
    "i=1\n",
    "while i<6:\n",
    "    print(i)\n",
    "    i +=1"
   ]
  },
  {
   "cell_type": "markdown",
   "id": "3fa8cc70",
   "metadata": {},
   "source": [
    "### 2. Calculate the sum of number from 1 to 10 using a while loop."
   ]
  },
  {
   "cell_type": "code",
   "execution_count": 12,
   "id": "98ab2a19",
   "metadata": {},
   "outputs": [
    {
     "name": "stdout",
     "output_type": "stream",
     "text": [
      "The sum of 1 to 10 numbers is: 55\n"
     ]
    }
   ],
   "source": [
    "add = 0\n",
    "i=1\n",
    "while i<11:\n",
    "    add +=i\n",
    "    i +=1\n",
    "print(\"The sum of 1 to 10 numbers is:\", add)"
   ]
  },
  {
   "cell_type": "markdown",
   "id": "07b7bdf1",
   "metadata": {},
   "source": [
    "### 3.Calculate the factorial of a number using a for loop."
   ]
  },
  {
   "cell_type": "code",
   "execution_count": 30,
   "id": "baa1123e",
   "metadata": {},
   "outputs": [
    {
     "name": "stdout",
     "output_type": "stream",
     "text": [
      "Enter a number:4\n",
      "Factorial of a number 4 is: 24\n"
     ]
    }
   ],
   "source": [
    "number = int(input('Enter a number:'))\n",
    "fact= 1\n",
    "for i in range(1,number+1):\n",
    "    fact *=i\n",
    "print(\"Factorial of a number {} is:\".format(number),fact)"
   ]
  },
  {
   "cell_type": "markdown",
   "id": "3f1860f0",
   "metadata": {},
   "source": [
    "### 4. Count the number of vowels in a string using a for loop."
   ]
  },
  {
   "cell_type": "code",
   "execution_count": 34,
   "id": "b354ceee",
   "metadata": {},
   "outputs": [
    {
     "name": "stdout",
     "output_type": "stream",
     "text": [
      "Enter a name in lower case:happy learning\n",
      "4\n"
     ]
    }
   ],
   "source": [
    "vowels=['a','e','i','o','u']\n",
    "vow_count =0\n",
    "str_1 =input(\"Enter a name in lower case:\")\n",
    "for i in str_1:\n",
    "    if i in vowels:\n",
    "        vow_count +=1\n",
    "print(vow_count)"
   ]
  },
  {
   "cell_type": "markdown",
   "id": "fe4e8217",
   "metadata": {},
   "source": [
    "### 5.Print a pattern using nested loop."
   ]
  },
  {
   "cell_type": "code",
   "execution_count": 57,
   "id": "0e577b3d",
   "metadata": {},
   "outputs": [
    {
     "name": "stdout",
     "output_type": "stream",
     "text": [
      "@\n",
      "@@\n",
      "@@@\n",
      "@@@@\n",
      "@@@@@\n",
      "@@@@@@\n"
     ]
    }
   ],
   "source": [
    "for i in range(6):        # i will take values from 0 to 6 and this loop is for rows. 6 is nothing but a number of rows\n",
    "    for j in range(i+1):  # j will be +1 of i and this loop is for columns.\n",
    "        print(\"@\",end='') # print @ for each column\n",
    "    print()               # to change line"
   ]
  },
  {
   "cell_type": "code",
   "execution_count": 64,
   "id": "52bad9b1",
   "metadata": {},
   "outputs": [
    {
     "name": "stdout",
     "output_type": "stream",
     "text": [
      "@@@@@@\n",
      "@@@@@\n",
      "@@@@\n",
      "@@@\n",
      "@@\n",
      "@\n"
     ]
    }
   ],
   "source": [
    "for i in range(5,-1,-1):        \n",
    "    for j in range(i+1):  \n",
    "        print(\"@\",end='') \n",
    "    print()    "
   ]
  },
  {
   "cell_type": "markdown",
   "id": "9d93f346",
   "metadata": {},
   "source": [
    "### 6. Generate a multiplication table using nested loop."
   ]
  },
  {
   "cell_type": "code",
   "execution_count": 70,
   "id": "ed839c59",
   "metadata": {},
   "outputs": [
    {
     "name": "stdout",
     "output_type": "stream",
     "text": [
      "2\t3\t4\t5\t6\t7\t8\t9\t10\t\n",
      "4\t6\t8\t10\t12\t14\t16\t18\t20\t\n",
      "6\t9\t12\t15\t18\t21\t24\t27\t30\t\n",
      "8\t12\t16\t20\t24\t28\t32\t36\t40\t\n",
      "10\t15\t20\t25\t30\t35\t40\t45\t50\t\n",
      "12\t18\t24\t30\t36\t42\t48\t54\t60\t\n",
      "14\t21\t28\t35\t42\t49\t56\t63\t70\t\n",
      "16\t24\t32\t40\t48\t56\t64\t72\t80\t\n",
      "18\t27\t36\t45\t54\t63\t72\t81\t90\t\n",
      "20\t30\t40\t50\t60\t70\t80\t90\t100\t\n"
     ]
    }
   ],
   "source": [
    "for i in range(1,11):\n",
    "    for j in range(2,11):\n",
    "        print(i*j,end='\\t')\n",
    "    print()"
   ]
  },
  {
   "cell_type": "code",
   "execution_count": null,
   "id": "67ddd4fd",
   "metadata": {},
   "outputs": [],
   "source": []
  }
 ],
 "metadata": {
  "kernelspec": {
   "display_name": "Python 3 (ipykernel)",
   "language": "python",
   "name": "python3"
  },
  "language_info": {
   "codemirror_mode": {
    "name": "ipython",
    "version": 3
   },
   "file_extension": ".py",
   "mimetype": "text/x-python",
   "name": "python",
   "nbconvert_exporter": "python",
   "pygments_lexer": "ipython3",
   "version": "3.9.7"
  }
 },
 "nbformat": 4,
 "nbformat_minor": 5
}
