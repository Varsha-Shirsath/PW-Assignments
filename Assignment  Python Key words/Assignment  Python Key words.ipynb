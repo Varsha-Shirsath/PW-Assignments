{
 "cells": [
  {
   "cell_type": "markdown",
   "id": "6532f948",
   "metadata": {},
   "source": [
    "### 1. Explain the significance of Python keywords and provide examples of five keywords"
   ]
  },
  {
   "cell_type": "markdown",
   "id": "484cdef8",
   "metadata": {},
   "source": [
    "####  Python keywords play a important role in defining the syntax, structure, and behavior of Python programs.\n",
    "#### These keywords are predefined and cannot be used for any other purpose such as variable names or function names."
   ]
  },
  {
   "cell_type": "code",
   "execution_count": 9,
   "id": "8173aa31",
   "metadata": {},
   "outputs": [
    {
     "name": "stdout",
     "output_type": "stream",
     "text": [
      "0 ----even number\n",
      "1 ----odd number\n",
      "2 ----even number\n",
      "3 ----odd number\n",
      "4 ----even number\n",
      "5 ----odd number\n",
      "6 ----even number\n",
      "7 ----odd number\n",
      "8 ----even number\n",
      "9 ----odd number\n",
      "10 ----even number\n"
     ]
    }
   ],
   "source": [
    "#1. if, else, elif, True, False, for, in, is\n",
    "\n",
    "for i in range(11):\n",
    "    if i % 2 ==0:\n",
    "        print(i, \"----even number\")\n",
    "    else:\n",
    "        print(i, \"----odd number\")"
   ]
  },
  {
   "cell_type": "markdown",
   "id": "c946c9e4",
   "metadata": {},
   "source": [
    "### 2. Describe the rules for defining identifiers in Python and provide an example"
   ]
  },
  {
   "cell_type": "markdown",
   "id": "d23f4aea",
   "metadata": {},
   "source": [
    "#### Rules for defining identifiers in Python:\n",
    "#### 1) identifires are case sensitive\n",
    "#### 2) It cannot starts with digit\n",
    "#### 3) They be Upper case, lower case or combination of both\n",
    "#### 4) It cannot be same as keywors\n",
    "#### 5) Special characters are not allowed\n",
    "#### 6) Underscore can be used in identifier as well as it can start with underscore"
   ]
  },
  {
   "cell_type": "code",
   "execution_count": 14,
   "id": "d5faaf55",
   "metadata": {},
   "outputs": [],
   "source": [
    "# Examples:\n",
    "Name ='Varsha'\n",
    "name ='Varsha'\n",
    "_name ='Varsha'\n",
    "name_1 = 'Varsha'\n",
    "NameStud ='Varsha'"
   ]
  },
  {
   "cell_type": "markdown",
   "id": "806c816a",
   "metadata": {},
   "source": [
    "### 3. What are comments in Python, and why are they useful? Provide an example"
   ]
  },
  {
   "cell_type": "markdown",
   "id": "594c7e2b",
   "metadata": {},
   "source": [
    "#### Comments are nothing but a text note that gives an explanation about the source code \n",
    "#### if anyone using a same code in future comments will help them to understand the code\n",
    "#### comments are used to provide documentation and explanation within the code\n",
    "#### for single line comment we use # and for multi line \"\"\" \"\"\""
   ]
  },
  {
   "cell_type": "code",
   "execution_count": 19,
   "id": "c9aa0d99",
   "metadata": {},
   "outputs": [
    {
     "data": {
      "text/plain": [
       "'\\nThis is a multi-line comment.\\nIt can be used for longer explanations.\\nIt can help in future\\n'"
      ]
     },
     "execution_count": 19,
     "metadata": {},
     "output_type": "execute_result"
    }
   ],
   "source": [
    "# This is a single-line comment \n",
    "\n",
    "\"\"\"\n",
    "This is a multi-line comment.\n",
    "It can be used for longer explanations.\n",
    "It can help in future\n",
    "\"\"\""
   ]
  },
  {
   "cell_type": "markdown",
   "id": "850c5fcb",
   "metadata": {},
   "source": [
    "### 4. Why is proper indentation important in Python?"
   ]
  },
  {
   "cell_type": "markdown",
   "id": "b48411b0",
   "metadata": {},
   "source": [
    "#### Proper indentation makes code readable\n",
    "#### In loops code will be grouped using indentation\n",
    "#### No need to use delimeters like other languages"
   ]
  },
  {
   "cell_type": "code",
   "execution_count": 23,
   "id": "353f702b",
   "metadata": {},
   "outputs": [
    {
     "name": "stdout",
     "output_type": "stream",
     "text": [
      "This is proper indentation\n"
     ]
    }
   ],
   "source": [
    "# EXAMPLE:\n",
    "if True:\n",
    "    print(\"This is proper indentation\")"
   ]
  },
  {
   "cell_type": "markdown",
   "id": "59826ff5",
   "metadata": {},
   "source": [
    "### 5.What happens if indentation is incorrect in Python?"
   ]
  },
  {
   "cell_type": "code",
   "execution_count": 31,
   "id": "8a218ed4",
   "metadata": {},
   "outputs": [
    {
     "ename": "IndentationError",
     "evalue": "expected an indented block (1/ipykernel_12388/4021250940.py, line 3)",
     "output_type": "error",
     "traceback": [
      "\u001b[1;36m  File \u001b[1;32m\"C:\\Users\\shva2003\\AppData\\Local\\Temp\\1/ipykernel_12388/4021250940.py\"\u001b[1;36m, line \u001b[1;32m3\u001b[0m\n\u001b[1;33m    print(\"This is proper indentation\")\u001b[0m\n\u001b[1;37m    ^\u001b[0m\n\u001b[1;31mIndentationError\u001b[0m\u001b[1;31m:\u001b[0m expected an indented block\n"
     ]
    }
   ],
   "source": [
    "## If indentation is missing it will throw an indentation error\n",
    "if True:\n",
    "print(\"This is proper indentation\")\n",
    "\n",
    "## If colon : is missing it will throw sytax error\n",
    "if True\n",
    " print(\"This is proper indentation\")"
   ]
  },
  {
   "cell_type": "markdown",
   "id": "2e81ee79",
   "metadata": {},
   "source": [
    "### 6.Differentiate between expression and statement in Python with examples"
   ]
  },
  {
   "cell_type": "markdown",
   "id": "a0b0ede3",
   "metadata": {},
   "source": [
    "#### An expression is a combination of values, variables, operators, and function calls that evaluates to a single value.\n",
    "#### A statement is a complete unit of execution that performs some action."
   ]
  },
  {
   "cell_type": "code",
   "execution_count": 36,
   "id": "0af6bb24",
   "metadata": {},
   "outputs": [
    {
     "name": "stdout",
     "output_type": "stream",
     "text": [
      "c is greater than 20\n"
     ]
    }
   ],
   "source": [
    "#Example of expression:\n",
    "\n",
    "a= 23   # Assignment expression\n",
    "b= a+4  # Arithmetic expression\n",
    "\n",
    "#Example of statement:\n",
    "c=34               # assignment statement\n",
    "if c>20:           # This is if statement\n",
    "    print(\"c is greater than 20\")\n"
   ]
  },
  {
   "cell_type": "code",
   "execution_count": null,
   "id": "ca4a2fe2",
   "metadata": {},
   "outputs": [],
   "source": []
  }
 ],
 "metadata": {
  "kernelspec": {
   "display_name": "Python 3 (ipykernel)",
   "language": "python",
   "name": "python3"
  },
  "language_info": {
   "codemirror_mode": {
    "name": "ipython",
    "version": 3
   },
   "file_extension": ".py",
   "mimetype": "text/x-python",
   "name": "python",
   "nbconvert_exporter": "python",
   "pygments_lexer": "ipython3",
   "version": "3.9.7"
  }
 },
 "nbformat": 4,
 "nbformat_minor": 5
}
