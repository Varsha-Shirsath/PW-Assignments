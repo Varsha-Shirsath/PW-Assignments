{
 "cells": [
  {
   "cell_type": "markdown",
   "id": "c987c8f3",
   "metadata": {},
   "source": [
    "### 1. Write a program to print numbers from  1 to 10, but stop if the number is 5."
   ]
  },
  {
   "cell_type": "code",
   "execution_count": 3,
   "id": "d74bcfb8",
   "metadata": {},
   "outputs": [
    {
     "name": "stdout",
     "output_type": "stream",
     "text": [
      "1\n",
      "2\n",
      "3\n",
      "4\n"
     ]
    }
   ],
   "source": [
    "i=1\n",
    "while i<=10:\n",
    "    if i==5:\n",
    "        break\n",
    "    print(i)\n",
    "    i +=1\n"
   ]
  },
  {
   "cell_type": "markdown",
   "id": "c0bdc7c8",
   "metadata": {},
   "source": [
    "### 2. Write a program to iterate through a list and stop when encountering a specific element."
   ]
  },
  {
   "cell_type": "code",
   "execution_count": 13,
   "id": "e0e30b23",
   "metadata": {},
   "outputs": [
    {
     "name": "stdout",
     "output_type": "stream",
     "text": [
      "Varsha\n",
      "Subhash\n",
      "Mina\n"
     ]
    }
   ],
   "source": [
    "list_1 =['Varsha','Subhash','Mina','Rohit','Harsh']\n",
    "for i in list_1:\n",
    "    if i=='Rohit':\n",
    "        break\n",
    "    print(i)"
   ]
  },
  {
   "cell_type": "markdown",
   "id": "97f6d988",
   "metadata": {},
   "source": [
    "### 3. Write a program to skip printing even numbers from  1 to 10."
   ]
  },
  {
   "cell_type": "code",
   "execution_count": 18,
   "id": "65c6f9fa",
   "metadata": {},
   "outputs": [
    {
     "name": "stdout",
     "output_type": "stream",
     "text": [
      "1\n",
      "3\n",
      "5\n",
      "7\n",
      "9\n"
     ]
    }
   ],
   "source": [
    "for i in range(1,11):\n",
    "    if i % 2==0:\n",
    "        continue\n",
    "    print(i)      "
   ]
  },
  {
   "cell_type": "markdown",
   "id": "3606a20a",
   "metadata": {},
   "source": [
    "### 4. Write a program to print numbers from 0 to 9 using range()."
   ]
  },
  {
   "cell_type": "code",
   "execution_count": 19,
   "id": "41637594",
   "metadata": {},
   "outputs": [
    {
     "name": "stdout",
     "output_type": "stream",
     "text": [
      "0\n",
      "1\n",
      "2\n",
      "3\n",
      "4\n",
      "5\n",
      "6\n",
      "7\n",
      "8\n",
      "9\n"
     ]
    }
   ],
   "source": [
    "for i in range(0,10):\n",
    "    print(i)"
   ]
  },
  {
   "cell_type": "markdown",
   "id": "6f2aeeb6",
   "metadata": {},
   "source": [
    "### 5.Write a program to print multiplication tables from 1 to 5,but stop after the first table is printed for each number."
   ]
  },
  {
   "cell_type": "code",
   "execution_count": 26,
   "id": "3ab5d469",
   "metadata": {},
   "outputs": [
    {
     "name": "stdout",
     "output_type": "stream",
     "text": [
      "Multiplication table for 1\n",
      "1 multiply by 2 is 2\n",
      "1 multiply by 3 is 3\n",
      "1 multiply by 4 is 4\n",
      "1 multiply by 5 is 5\n",
      "1 multiply by 6 is 6\n",
      "1 multiply by 7 is 7\n",
      "1 multiply by 8 is 8\n",
      "1 multiply by 9 is 9\n",
      "1 multiply by 10 is 10\n"
     ]
    }
   ],
   "source": [
    "for i in range(1,6):\n",
    "    print(\"Multiplication table for\",i)\n",
    "    for j in range(2,11):\n",
    "        print(\"{} multiply by {} is\".format(i,j),i*j)\n",
    "    break"
   ]
  },
  {
   "cell_type": "markdown",
   "id": "7f2532ff",
   "metadata": {},
   "source": [
    "### 6. Write a program to skip printing even numbers using a while loop."
   ]
  },
  {
   "cell_type": "code",
   "execution_count": 39,
   "id": "4efb2e12",
   "metadata": {},
   "outputs": [
    {
     "name": "stdout",
     "output_type": "stream",
     "text": [
      "1\n",
      "3\n",
      "5\n",
      "7\n",
      "9\n"
     ]
    }
   ],
   "source": [
    "i=1\n",
    "while i<=10:\n",
    "    if i%2==0:\n",
    "        i+=1\n",
    "        continue\n",
    "    print(i)\n",
    "    i+=1"
   ]
  },
  {
   "cell_type": "code",
   "execution_count": null,
   "id": "b1e4f13a",
   "metadata": {},
   "outputs": [],
   "source": []
  }
 ],
 "metadata": {
  "kernelspec": {
   "display_name": "Python 3 (ipykernel)",
   "language": "python",
   "name": "python3"
  },
  "language_info": {
   "codemirror_mode": {
    "name": "ipython",
    "version": 3
   },
   "file_extension": ".py",
   "mimetype": "text/x-python",
   "name": "python",
   "nbconvert_exporter": "python",
   "pygments_lexer": "ipython3",
   "version": "3.9.7"
  }
 },
 "nbformat": 4,
 "nbformat_minor": 5
}
