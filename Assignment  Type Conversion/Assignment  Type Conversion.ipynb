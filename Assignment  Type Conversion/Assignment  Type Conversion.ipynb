{
 "cells": [
  {
   "cell_type": "markdown",
   "id": "fa141029",
   "metadata": {},
   "source": [
    "### 1. Convert a integer to a floating-point number."
   ]
  },
  {
   "cell_type": "code",
   "execution_count": 24,
   "id": "72e4b7a6",
   "metadata": {},
   "outputs": [
    {
     "name": "stdout",
     "output_type": "stream",
     "text": [
      "a= 23\n",
      "type of a: <class 'int'>\n",
      "Converted integer to float: 23.0\n",
      "type of converted no.: <class 'float'>\n"
     ]
    }
   ],
   "source": [
    "a= 23  #integer number\n",
    "print(\"a=\",a)\n",
    "print(\"type of a:\", type(a))\n",
    "int_to_flt = float(a)\n",
    "print(\"Converted integer to float:\", int_to_flt)\n",
    "print(\"type of converted no.:\", type(int_to_flt))"
   ]
  },
  {
   "cell_type": "markdown",
   "id": "ce01016b",
   "metadata": {},
   "source": [
    "### 2. Convert a float to a integer."
   ]
  },
  {
   "cell_type": "code",
   "execution_count": 26,
   "id": "c8f54ea7",
   "metadata": {},
   "outputs": [
    {
     "name": "stdout",
     "output_type": "stream",
     "text": [
      "b= 23.5\n",
      "type of b: <class 'float'>\n",
      "Converted float to integer: 23\n",
      "type of converted no.: <class 'int'>\n"
     ]
    }
   ],
   "source": [
    "b= 23.5  #float number\n",
    "print(\"b=\",b)\n",
    "print(\"type of b:\", type(b))\n",
    "flt_to_int = int(b)\n",
    "print(\"Converted float to integer:\", flt_to_int)\n",
    "print(\"type of converted no.:\", type(flt_to_int))"
   ]
  },
  {
   "cell_type": "markdown",
   "id": "d7f9d9a9",
   "metadata": {},
   "source": [
    "### 3. Convert a integer to a string."
   ]
  },
  {
   "cell_type": "code",
   "execution_count": 22,
   "id": "0b788074",
   "metadata": {},
   "outputs": [
    {
     "name": "stdout",
     "output_type": "stream",
     "text": [
      "c= 23\n",
      "type of c: <class 'int'>\n",
      "Converted integer to string: 23\n",
      "type of converted no.: <class 'str'>\n"
     ]
    }
   ],
   "source": [
    "c= 23  #integer number\n",
    "print(\"c=\",c)\n",
    "print(\"type of c:\", type(c))\n",
    "int_to_str = str(c)\n",
    "print(\"Converted integer to string:\", int_to_str)\n",
    "print(\"type of converted no.:\", type(int_to_str))"
   ]
  },
  {
   "cell_type": "markdown",
   "id": "6ed6095b",
   "metadata": {},
   "source": [
    "### 4. Convert a list to a tuple."
   ]
  },
  {
   "cell_type": "code",
   "execution_count": 31,
   "id": "b432e063",
   "metadata": {},
   "outputs": [
    {
     "name": "stdout",
     "output_type": "stream",
     "text": [
      "List: [11, 23.4, 'Answer', 78, 'varsha']\n",
      "Tuple of a list: (11, 23.4, 'Answer', 78, 'varsha')\n"
     ]
    }
   ],
   "source": [
    "List_1 = [11,23.4,\"Answer\",78,\"varsha\"]\n",
    "print(\"List:\",List_1)\n",
    "Lst_to_tpl = tuple(List_1)\n",
    "print(\"Tuple of a list:\", Lst_to_tpl)"
   ]
  },
  {
   "cell_type": "markdown",
   "id": "509e0d05",
   "metadata": {},
   "source": [
    "### 5. Convert a tuple to a list."
   ]
  },
  {
   "cell_type": "code",
   "execution_count": 32,
   "id": "e8150522",
   "metadata": {},
   "outputs": [
    {
     "name": "stdout",
     "output_type": "stream",
     "text": [
      "Tuple: (11, 22, 34, 'varsha', 34.5, '56.78')\n",
      "List of a tuple: [11, 22, 34, 'varsha', 34.5, '56.78']\n"
     ]
    }
   ],
   "source": [
    "tup_1 =(11,22,34,'varsha',34.5,'56.78')\n",
    "print(\"Tuple:\",tup_1)\n",
    "tpl_to_lst= list(tup_1)\n",
    "print(\"List of a tuple:\", tpl_to_lst)"
   ]
  },
  {
   "cell_type": "markdown",
   "id": "89c496f3",
   "metadata": {},
   "source": [
    "### 6. Convert a decimal number to binary."
   ]
  },
  {
   "cell_type": "code",
   "execution_count": 36,
   "id": "15864ef7",
   "metadata": {},
   "outputs": [
    {
     "name": "stdout",
     "output_type": "stream",
     "text": [
      "Deciaml Number: 23\n",
      "Binary number of decimal: 0b10111\n"
     ]
    }
   ],
   "source": [
    "dec=23\n",
    "print(\"Deciaml Number:\",dec)\n",
    "dec_to_bin = bin(dec)\n",
    "print(\"Binary number of decimal:\",dec_to_bin)"
   ]
  },
  {
   "cell_type": "markdown",
   "id": "43566593",
   "metadata": {},
   "source": [
    "### 7. Convert a non-zero number to boolean."
   ]
  },
  {
   "cell_type": "code",
   "execution_count": 37,
   "id": "2e07c94b",
   "metadata": {},
   "outputs": [
    {
     "name": "stdout",
     "output_type": "stream",
     "text": [
      "Number: 10\n",
      "Boolean of the number: True\n"
     ]
    }
   ],
   "source": [
    "number = 10\n",
    "print(\"Number:\", number)\n",
    "num_to_bool = bool(number)\n",
    "print(\"Boolean of the number:\", num_to_bool)"
   ]
  },
  {
   "cell_type": "code",
   "execution_count": null,
   "id": "dfd57805",
   "metadata": {},
   "outputs": [],
   "source": []
  }
 ],
 "metadata": {
  "kernelspec": {
   "display_name": "Python 3 (ipykernel)",
   "language": "python",
   "name": "python3"
  },
  "language_info": {
   "codemirror_mode": {
    "name": "ipython",
    "version": 3
   },
   "file_extension": ".py",
   "mimetype": "text/x-python",
   "name": "python",
   "nbconvert_exporter": "python",
   "pygments_lexer": "ipython3",
   "version": "3.9.7"
  }
 },
 "nbformat": 4,
 "nbformat_minor": 5
}
